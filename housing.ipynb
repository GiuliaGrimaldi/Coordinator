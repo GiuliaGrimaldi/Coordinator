{
 "cells": [
  {
   "attachments": {},
   "cell_type": "markdown",
   "metadata": {},
   "source": [
    "# EDA - HOUSING PRICING DATASET\n",
    "In this notebook we perform a Explorative Data Analisis of the data of the housing.csv dataset.\n",
    "The dataset contains 545 observation (houses) and 13 variables.\n",
    "- price: price of the house;\n",
    "- area: area of the house (m^2);\n",
    "- bedrooms: number of house bedroom's;\n",
    "- bathrooms: number/if batrooms;\n",
    "- storeis: number of house storeis (storey meaning any level part of a building with a floor that could be used by people;\n",
    "- mainroad: Weather connected to Main Road;\n",
    "- guestroom: Weather has a guest room;\n",
    "- basement: Weather has a basement;\n",
    "- hotwaterheating: Weather has a hotwater heater;\n",
    "- airconditioning: Weather has an airconditioning;\n",
    "- parking: number/if parking in the house;\n",
    "- prefarea: if the House is or not in a preferable are of the town;\n",
    "- furnishingstatus: Furnishing status of the House.\n",
    "\n",
    "### OBJECTIVE\n",
    "The objective of the analisys is to import, clean and prepare the data for a regression problem.\n",
    "In this operation keep in mind that u should deal with null values (choose weather to drop them or fill them and with what),\n",
    "also for the regression problem we can not have categorical variables therefore we need some kind of encoding for the variables that are not numeric.\n",
    "Try to get the most out of the this dataset studying how the variables are correlated wqith each other and which are the variables that most influence the price outcome.\n",
    "\n",
    "##### KEEP IN MIND THAT THIS IS ONLY A DEMO OF WHAT WE CAN PERFORM IN AN EDA AND THERE ARE MANY OTHER THINGS THAT CAN BE DONE TO IMPROVE THE ANALISYS. USE THIS AS A GUIDE OR INSPIRATION FOR YOUR OWN ANALISYS AND DO NOT JUST COPY AND PASTE THE CODE BUT TRY TO UNDERSTAND WHAT IS HAPPENING AND WHY."
   ]
  },
  {
   "attachments": {},
   "cell_type": "markdown",
   "metadata": {},
   "source": [
    "### IMPORT AND FIRST CHECK\n",
    "We need to import both the pandas and numpy libraries to work with the data. We also import the matplotlib and seaborn libraries to plot the data and the data itself.\n"
   ]
  },
  {
   "cell_type": "code",
   "execution_count": null,
   "metadata": {},
   "outputs": [],
   "source": [
    "import pandas as pd\n",
    "import numpy as np\n",
    "import seaborn as sns\n",
    "import matplotlib.pyplot as plt"
   ]
  },
  {
   "attachments": {},
   "cell_type": "markdown",
   "metadata": {},
   "source": [
    "#### Importing the data \n",
    "We import the data and check that the procedure was successful\n"
   ]
  },
  {
   "cell_type": "code",
   "execution_count": null,
   "metadata": {},
   "outputs": [],
   "source": [
    "housing = pd.read_csv('housing_price_na.csv')\n",
    "housing.head()"
   ]
  },
  {
   "attachments": {},
   "cell_type": "markdown",
   "metadata": {},
   "source": [
    "#### Checking for null value\n",
    "Check if there are null value in the datafram both form a numerical and grafical point of view"
   ]
  },
  {
   "cell_type": "code",
   "execution_count": null,
   "metadata": {},
   "outputs": [],
   "source": [
    "# check for na value\n",
    "housing.info()\n",
    "# visualizing missing values\n",
    "sns.heatmap(housing.isna(),cbar=False)\n",
    "plt.show()"
   ]
  },
  {
   "attachments": {},
   "cell_type": "markdown",
   "metadata": {},
   "source": [
    "#### Oher general information"
   ]
  },
  {
   "cell_type": "code",
   "execution_count": null,
   "metadata": {},
   "outputs": [],
   "source": [
    "housing.describe()\n"
   ]
  },
  {
   "cell_type": "markdown",
   "metadata": {},
   "source": [
    "### DEALING WITH MISSING VALUES\n",
    "We have seen that there are some missing values in our dataset, let's see how we can deal with them.\n",
    "Most of the time people just drop na value or fill them with the mean of the column, but this is not always the best solution.\n",
    "Infact we fistr need to verify if the missing data has a meaning, for example if the missing data in mainroad means that the house is not connected to the main road or that there is no main road in the area, and so it's bringing us information about the house?\n",
    "\n",
    "So before dropping or filling the missing values we need to understand if they are missing at random or not.\n",
    "we wanto to insert the label value in the missing values and then we want to see if the distribution of the label is the same as the distribution of the variable we are studying.\n",
    "If the distribution is the same we can say that the missing values are missing at random and we can fill them with the mean of the variable or the median."
   ]
  },
  {
   "cell_type": "code",
   "execution_count": null,
   "metadata": {},
   "outputs": [],
   "source": [
    "tmp = housing[[\"mainroad\",\"price\"]]\n",
    "tmp[\"mainroad\"] = tmp[\"mainroad\"].apply(lambda x: \"value\" if not pd.isna(x) else \"na\")\n",
    "# plotting the two variables distributions\n",
    "sns.displot(data=tmp,x=\"price\",hue=\"mainroad\",kde=True)\n",
    "plt.show()"
   ]
  },
  {
   "attachments": {},
   "cell_type": "markdown",
   "metadata": {},
   "source": [
    "As we see from the graph the distribution of the mainroad variable is the same for the houses with mainroad and the houses without mainroad, therefore the missing data in the mainroad variable are not significant for our target variable and we can fill them with the mean of the variable. (in this case is a categorical variable so we can fill them with the mode of the variable)"
   ]
  },
  {
   "attachments": {},
   "cell_type": "markdown",
   "metadata": {},
   "source": [
    "### UNDERSTANDING THE DATA\n",
    "Let's now spend some time doing what is arguably the most important step - understanding the data.\n",
    "\n",
    "#### Visualizing the data \n",
    "We want to have a general grasp about the composition of our dataset.\n",
    "So we want something that makes us see the general distribution of the single variable but also how that affects the other variables.\n",
    "We can do that by using a pairplot from seaborn library.\n",
    "We can also see the correlation between the variables by using the heatmap function from seaborn library."
   ]
  },
  {
   "cell_type": "code",
   "execution_count": null,
   "metadata": {},
   "outputs": [],
   "source": [
    "# Pairplot\n",
    "sns.pairplot(housing)\n",
    "plt.show()"
   ]
  },
  {
   "cell_type": "code",
   "execution_count": null,
   "metadata": {},
   "outputs": [],
   "source": [
    "# Correlation heatmap\n",
    "plt.figure(figsize=(12,8))\n",
    "sns.heatmap(housing.corr(),annot=True,cmap='coolwarm')"
   ]
  },
  {
   "attachments": {},
   "cell_type": "markdown",
   "metadata": {},
   "source": [
    "We see that the variables are not very correlated with each other, this is a good thing because it means that we can use all the variables in our model.\n",
    "Keep in mind that if we had a lot of variables that are correlated with each other we would have to drop some of them to avoid multicollinearity, and that categorical variables are not shown in the heatmap or in the pairplot."
   ]
  },
  {
   "attachments": {},
   "cell_type": "markdown",
   "metadata": {},
   "source": [
    "#### Visualizing our target variable: price\n",
    "Since our target variable is numeric we plot its distribution. \n",
    "We also extract the information about the mean of the house pricing.\n",
    "\n",
    "What ca we also say from this plot?"
   ]
  },
  {
   "cell_type": "code",
   "execution_count": null,
   "metadata": {},
   "outputs": [],
   "source": [
    "sns.displot(data=housing,x=\"price\",kde=True)\n",
    "plt.legend(title=\"mean={:,.0f}\".format(housing.price.mean()))\n",
    "plt.show()\n"
   ]
  },
  {
   "attachments": {},
   "cell_type": "markdown",
   "metadata": {},
   "source": [
    "#### Example of analisys for a categorical variable\n",
    "In out dataset we see that we have many categorical variable, let's analize them.\n",
    "In this case we want to use a BARBLOT.\n",
    "\n",
    "What ca we also say about the AC variable? Ca we apply this kind of analisys for other variables? If yes try to do this on your own."
   ]
  },
  {
   "cell_type": "code",
   "execution_count": null,
   "metadata": {},
   "outputs": [],
   "source": [
    "housing['airconditioning'].value_counts().sort_values().plot(kind='barh')\n",
    "plt.show()"
   ]
  },
  {
   "attachments": {},
   "cell_type": "markdown",
   "metadata": {},
   "source": [
    "Since the majority of the house in our df has no air conditioning we are curious to see if this affect the price:\n",
    "- in the first graph we plot the two distribution in a box plot, that help us see if we have OUTLIERS (:meaning datapoints that are very distant from the other in terms of the variable we are studying, this points have very different values and we are usually interested in understanding why it is so;\n",
    "- the second example is a violin plot, it works more or less like a box plot but makes us able to se where the mean is positioned and the shape of the distribution of the values we are analyzing."
   ]
  },
  {
   "cell_type": "code",
   "execution_count": null,
   "metadata": {},
   "outputs": [],
   "source": [
    "# example one: boxplot\n",
    "sns.catplot(data=housing,x=\"airconditioning\",y=\"price\",kind=\"box\")\n",
    "plt.show()"
   ]
  },
  {
   "cell_type": "code",
   "execution_count": null,
   "metadata": {},
   "outputs": [],
   "source": [
    "# example two: violinplot\n",
    "sns.violinplot(x = 'airconditioning', y = 'price', data = housing)\n",
    "plt.show()"
   ]
  },
  {
   "attachments": {},
   "cell_type": "markdown",
   "metadata": {},
   "source": [
    "We notice that the price of the houses with AC is generally higher than the price of the houses that do not.\n",
    "So our variables are actually correlated, therefore interesting for our analysis.\n"
   ]
  },
  {
   "attachments": {},
   "cell_type": "markdown",
   "metadata": {},
   "source": [
    "#### Example of analisys for a numerical variable aginst the target variable\n",
    "In this case we want to check how a numerical variable (say area) affect the price of the house.\n",
    "We can do this by plotting the two variable against each other using either a scatter plot or a joint plot.\n",
    "The jointplot is a combination of a scatter plot and a histogram, it is very useful to see the distribution of the two variable and how they are correlated."
   ]
  },
  {
   "cell_type": "code",
   "execution_count": null,
   "metadata": {},
   "outputs": [],
   "source": [
    "sns.jointplot(data=housing,x=\"price\",y=\"area\",kind=\"reg\") # kind = \"reg\" for regression line that shows the relationship between the two variables\n",
    "plt.show()"
   ]
  },
  {
   "attachments": {},
   "cell_type": "markdown",
   "metadata": {},
   "source": [
    "#### Example of the analisys of three variables aginst each other (price, area and airconditioning)\n",
    "In this case we want to check how a numerical variable (say area) affect the price of the house.\n",
    "For this we use a scatter plot and we color the points according to the value of the third variable (airconditioning).\n",
    "In seaborn we can do this using the hue parameter of the lmplot function.\n",
    "The lmplot is a combination of a scatter plot and a regression line, it is very useful to see the distribution of the two variable and how they are correlated."
   ]
  },
  {
   "cell_type": "code",
   "execution_count": null,
   "metadata": {},
   "outputs": [],
   "source": [
    "sns.lmplot(data=housing,x=\"area\",y=\"price\",hue=\"airconditioning\")\n",
    "plt.show()"
   ]
  },
  {
   "attachments": {},
   "cell_type": "markdown",
   "metadata": {},
   "source": [
    "In this case we can see that, as expected, the price of the house with AC is higher than the price of the house without AC. And that the lowest prices are for the houses with the lowest area and no AC. We also see that the AC variable splits the data cloud in two parts, one for the houses with AC and one for the houses without AC. This means that the AC variable is correlated with the price variable suggesting us that the prices for houses with AC will eventually be higher than the prices for houses without AC and this will evolve in a better prediction of the price of the house."
   ]
  },
  {
   "attachments": {},
   "cell_type": "markdown",
   "metadata": {},
   "source": [
    "### CONCLUSION\n",
    "I recomend you to look for the definition of what we have seen in this example of EDA (says type of graphs and what they are plottin respectively).\n",
    "Also, try to experiment on other kind of analisys of this and other dataset, you can easily find a lot of datasets on https://www.kaggle.com/datasets."
   ]
  }
 ],
 "metadata": {
  "kernelspec": {
   "display_name": "base",
   "language": "python",
   "name": "python3"
  },
  "language_info": {
   "codemirror_mode": {
    "name": "ipython",
    "version": 3
   },
   "file_extension": ".py",
   "mimetype": "text/x-python",
   "name": "python",
   "nbconvert_exporter": "python",
   "pygments_lexer": "ipython3",
   "version": "3.9.13 (main, Aug 25 2022, 18:29:29) \n[Clang 12.0.0 ]"
  },
  "orig_nbformat": 4,
  "vscode": {
   "interpreter": {
    "hash": "4e0cc50f00aa6e77f581e4a7cda991666d06f05436fff393a914d5f73d3ae684"
   }
  }
 },
 "nbformat": 4,
 "nbformat_minor": 2
}
